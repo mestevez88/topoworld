{
 "cells": [
  {
   "cell_type": "code",
   "execution_count": null,
   "outputs": [],
   "source": [
    "import os\n",
    "import numpy as np\n",
    "import yaml\n",
    "import pandas as pd\n",
    "import seaborn as sns\n",
    "\n",
    "exp_dir = \"../results/MiniWorld-TopoMaze-v0/sb3_PPO/\"\n",
    "paths = [os.path.join(exp_dir, d) for d in os.listdir(exp_dir)]\n",
    "print(f\"Joining info from experiments\")\n",
    "print(paths)"
   ],
   "metadata": {
    "collapsed": false
   }
  },
  {
   "cell_type": "code",
   "execution_count": null,
   "outputs": [],
   "source": [
    "from topoworld.utils.experiment import get_maze_adjacency, get_experiment_info\n",
    "\n",
    "li = []\n",
    "\n",
    "for path in paths:\n",
    "    df = pd.read_csv(os.path.join(path, \"progress.csv\"))\n",
    "    info = get_experiment_info(path)\n",
    "    for key, value in info.items():\n",
    "        df[key] = value\n",
    "    li.append(df)\n",
    "\n",
    "frame = pd.concat(li, axis=0, ignore_index=True)\n",
    "\n",
    "# y=\"eval/mean_ep_length\" is also useful\n",
    "sns.lineplot(frame, x=\"time/total_timesteps\", y=\"eval/mean_reward\")"
   ],
   "metadata": {
    "collapsed": false
   }
  },
  {
   "cell_type": "code",
   "execution_count": null,
   "outputs": [],
   "source": [
    "# and here the full dataframe\n",
    "frame"
   ],
   "metadata": {
    "collapsed": false
   }
  },
  {
   "cell_type": "code",
   "execution_count": null,
   "outputs": [],
   "source": [
    "from topoworld.utils.vis_maze import *\n",
    "from topoworld.utils.experiment import get_maze_adjacency, get_experiment_info\n",
    "\n",
    "for p in paths:\n",
    "    adjacency = get_maze_adjacency(p)\n",
    "    info = get_experiment_info(p)\n",
    "    print(f\"Experiment info: {info}\")\n",
    "    _, ax = plt.subplots()\n",
    "    draw_maze(info[\"lx\"], info[\"lz\"], adjacency, ax)\n",
    "    ax.set_title(f'Maze {info[\"lx\"]}x{info[\"lz\"]}; pi={info[\"pi\"]}; Experiment: {info[\"experiment\"]}')"
   ],
   "metadata": {
    "collapsed": false
   }
  }
 ],
 "metadata": {
  "kernelspec": {
   "display_name": "Python 3",
   "language": "python",
   "name": "python3"
  },
  "language_info": {
   "codemirror_mode": {
    "name": "ipython",
    "version": 2
   },
   "file_extension": ".py",
   "mimetype": "text/x-python",
   "name": "python",
   "nbconvert_exporter": "python",
   "pygments_lexer": "ipython2",
   "version": "2.7.6"
  }
 },
 "nbformat": 4,
 "nbformat_minor": 0
}
